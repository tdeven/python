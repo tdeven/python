{
 "cells": [
  {
   "cell_type": "code",
   "execution_count": null,
   "id": "69188908-df7d-4a4a-ab1b-4de88867e768",
   "metadata": {},
   "outputs": [
    {
     "name": "stdout",
     "output_type": "stream",
     "text": [
      "Snake - Water - Gun\n"
     ]
    },
    {
     "name": "stdin",
     "output_type": "stream",
     "text": [
      "Enter the number of rounds: 3\n"
     ]
    },
    {
     "name": "stdout",
     "output_type": "stream",
     "text": [
      "Round :1\n",
      "Snake - 's'\n",
      "Water - 'w'\n",
      "Gun - 'g'\n"
     ]
    },
    {
     "name": "stdin",
     "output_type": "stream",
     "text": [
      "Choose your option:  s\n"
     ]
    },
    {
     "name": "stdout",
     "output_type": "stream",
     "text": [
      "Round :1\n",
      "Snake - 's'\n",
      "Water - 'w'\n",
      "Gun - 'g'\n"
     ]
    },
    {
     "name": "stdin",
     "output_type": "stream",
     "text": [
      "Choose your option:  s\n"
     ]
    },
    {
     "name": "stdout",
     "output_type": "stream",
     "text": [
      "Round :1\n",
      "Snake - 's'\n",
      "Water - 'w'\n",
      "Gun - 'g'\n"
     ]
    }
   ],
   "source": [
    "import random\n",
    "print('Snake - Water - Gun')\n",
    "\n",
    "n = int(input(\"Enter the number of rounds:\"))\n",
    "\n",
    "options = ['s', 'w', 'g']#s->snake, w->water, g->gun\n",
    "\n",
    "rounds = 1\n",
    "\n",
    "comp_win = 0 #Count for computer winning\n",
    "\n",
    "user_win = 0 #Count of user winning\n",
    "\n",
    "while rounds <= n:\n",
    "    print(f\"Round :{rounds}\\nSnake - 's'\\nWater - 'w'\\nGun - 'g'\")\n",
    "\n",
    "#Exception handling\n",
    "    try:\n",
    "        player = input(\"Choose your option: \")\n",
    "    except EOFError as e:\n",
    "        print(e)\n",
    "\n",
    "    if player != 's' and player != 'w' and player != 'g':\n",
    "        print(\"Invalid Input, try again\\n\")\n",
    "        continue \n",
    "    computer = random.choice(options)\n",
    "    if computer == 's':\n",
    "        if player == 'w':\n",
    "            comp_win += 1\n",
    "        elif player == 'g':\n",
    "            user_win +=1\n",
    "\n",
    "    elif computer == 'w':\n",
    "        if player == 'g':\n",
    "            comp_win +=1\n",
    "        elif player == 's':\n",
    "            user_win +=1\n",
    "\n",
    "    elif computer == 'g':\n",
    "        if player == 's':\n",
    "            comp_win +=1\n",
    "        elif player == 'w':\n",
    "            user_win +=1   \n",
    "\n",
    "            rounds += 1\n",
    "\n",
    "if user_win > comp_win:\n",
    "    print(f\"You won round {rounds}\\n\")\n",
    "elif comp_win > user_win:\n",
    "    print(f\"Computer won round {rounds}\\n\")\n",
    "else:\n",
    "    print(\"Draw!!\\n\")\n",
    "    rounds += 1\n",
    "\n",
    "if user_win > comp_win:\n",
    "    print(\"Congratulations!! You Won\")\n",
    "\n",
    "elif comp_win > user_win:\n",
    "    print(\"You lose!!\")\n",
    "\n",
    "else:\n",
    "    print(\"Match Draw!!\")"
   ]
  },
  {
   "cell_type": "code",
   "execution_count": null,
   "id": "565c5adf-2b52-4799-af86-d2660c0a17c0",
   "metadata": {},
   "outputs": [],
   "source": []
  }
 ],
 "metadata": {
  "kernelspec": {
   "display_name": "Python 3 (ipykernel)",
   "language": "python",
   "name": "python3"
  },
  "language_info": {
   "codemirror_mode": {
    "name": "ipython",
    "version": 3
   },
   "file_extension": ".py",
   "mimetype": "text/x-python",
   "name": "python",
   "nbconvert_exporter": "python",
   "pygments_lexer": "ipython3",
   "version": "3.11.4"
  }
 },
 "nbformat": 4,
 "nbformat_minor": 5
}
