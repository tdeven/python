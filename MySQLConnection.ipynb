{
 "cells": [
  {
   "cell_type": "code",
   "execution_count": 6,
   "id": "c35e1379-295d-4aa0-8af8-c9f50b32f4af",
   "metadata": {},
   "outputs": [
    {
     "name": "stdout",
     "output_type": "stream",
     "text": [
      "('hibernatedb',)\n",
      "('information_schema',)\n",
      "('mydatabase',)\n",
      "('mysql',)\n",
      "('performance_schema',)\n",
      "('phpmyadmin',)\n",
      "('projectspring4pmdb',)\n",
      "('test',)\n"
     ]
    }
   ],
   "source": [
    "import mysql.connector\n",
    "\n",
    "mydb = mysql.connector.connect(\n",
    "    host=\"localhost\",\n",
    "    user=\"root\",\n",
    "    password =\"\"\n",
    ")\n",
    "mycursor = mydb.cursor()\n",
    "mycursor.execute(\"Show databases\")\n",
    "for i in mycursor:\n",
    "    print(i)"
   ]
  },
  {
   "cell_type": "code",
   "execution_count": 17,
   "id": "680b1718-0678-40fc-82f8-517122e9da71",
   "metadata": {},
   "outputs": [],
   "source": [
    "import mysql.connector\n",
    "\n",
    "mydb = mysql.connector.connect(\n",
    "    host=\"localhost\",\n",
    "    user=\"root\",\n",
    "    password=\"\",\n",
    "    database=\"mydatabase\"\n",
    ")\n",
    "mycursor = mydb.cursor()\n",
    "mycursor.execute(\"CREATE TABLE students(name VARCHAR(250), age INTEGER(10))\")\n",
    "                \n",
    "\n"
   ]
  },
  {
   "cell_type": "code",
   "execution_count": 19,
   "id": "ac29a7f7-3b12-4c7e-a1f3-fb78ed501860",
   "metadata": {},
   "outputs": [
    {
     "name": "stdout",
     "output_type": "stream",
     "text": [
      "('students',)\n"
     ]
    }
   ],
   "source": [
    "import mysql.connector\n",
    "\n",
    "mydb = mysql.connector.connect(\n",
    "    host=\"localhost\",\n",
    "    user=\"root\",\n",
    "    password=\"\",\n",
    "    database=\"mydatabase\"\n",
    ")\n",
    "mycursor = mydb.cursor()\n",
    "mycursor.execute(\"SHOW TABLES\")\n",
    "for db in mycursor:\n",
    "    print(db)"
   ]
  },
  {
   "cell_type": "code",
   "execution_count": 23,
   "id": "35c99cb1-936c-45e9-b26d-56ea2801fd11",
   "metadata": {},
   "outputs": [],
   "source": [
    "import mysql.connector\n",
    "\n",
    "yr_db = mysql.connector.connect(\n",
    "    host=\"localhost\",\n",
    "    user=\"root\",\n",
    "    password=\"\"\n",
    ")\n",
    "yr_cur = yr_db.cursor()\n",
    "yr_cur.execute(\"CREATE DATABASE laptop\")"
   ]
  },
  {
   "cell_type": "code",
   "execution_count": 27,
   "id": "c25bcddd-d62d-46b2-aebb-f7c6e662e225",
   "metadata": {},
   "outputs": [],
   "source": [
    "import mysql.connector\n",
    "\n",
    "yr_db = mysql.connector.connect(\n",
    "    host=\"localhost\",\n",
    "    user=\"root\",\n",
    "    password=\"\",\n",
    "    database=\"laptop\"\n",
    ")\n",
    "yr_cur = yr_db.cursor()\n",
    "yr_cur.execute(\"CREATE TABLE desktop(d_id INTEGER(10), name VARCHAR(250), address VARCHAR(250))\")\n",
    "\n",
    "    "
   ]
  },
  {
   "cell_type": "code",
   "execution_count": 28,
   "id": "ae8544d6-db64-48ed-8600-64232ffb645b",
   "metadata": {},
   "outputs": [
    {
     "name": "stdout",
     "output_type": "stream",
     "text": [
      "('desktop',)\n"
     ]
    }
   ],
   "source": [
    "import mysql.connector\n",
    "\n",
    "yr_db = mysql.connector.connect(\n",
    "    host=\"localhost\",\n",
    "    user=\"root\",\n",
    "    password=\"\",\n",
    "    database=\"laptop\"\n",
    ")\n",
    "yr_cur = yr_db.cursor()\n",
    "yr_cur.execute(\"SHOW TABLES\")\n",
    "for yr in yr_cur:\n",
    "    print(yr)"
   ]
  },
  {
   "cell_type": "code",
   "execution_count": null,
   "id": "afbda341-dabc-4c1f-a12d-c845ad206fb3",
   "metadata": {},
   "outputs": [],
   "source": [
    "import mysql.connector\n",
    "\n",
    "yr_db = mysql.connector.connect(\n",
    "    host=\"localhost\",\n",
    "    user=\"root\",\n",
    "    password=\"\",\n",
    "    database=\"laptop\"\n",
    ")\n",
    "yr_cur = yr_db.cursor()\n",
    "\n",
    "sql = \"INSERT INTO desktop (name, address,d_id) VALUES(%s, %s, %s)\"\n",
    "std1 =[(\"Rajesh\", \"Japan\",123),\n",
    "       (\"Roshan\", \"Korea\",122),\n",
    "       (\"Paragash\", \"Saudi\",124),\n",
    "       (\"Sundar\", \"Dubai\",133),\n",
    "       (\"Devendra\", \"Nepal\",223)]\n",
    "\n",
    "yr_cur.executemany(sql, std1)#executemany()-->To insert multiple rows into a table, use the  executemany() method. \n",
    "#The second parameter of the executemany() mehtod is a list of tuples, conataining the data your want to insert.\n",
    "\n",
    "yr_db.commit()#yr_db.commit()-->It is required to make the changes, otherwise no changes are made to the table.\n",
    "\n",
    "print(mycursor.rowcount, \"Inserted data sucessful.....\")\n",
    "\n"
   ]
  },
  {
   "cell_type": "code",
   "execution_count": 55,
   "id": "6319e791-36e9-4420-836a-d54c45267efc",
   "metadata": {},
   "outputs": [
    {
     "name": "stdout",
     "output_type": "stream",
     "text": [
      "('Rajesh',)\n",
      "('Rajesh',)\n",
      "('Rajesh',)\n",
      "('Rajesh',)\n",
      "('Rajesh',)\n",
      "('Roshan',)\n",
      "('Paragash',)\n",
      "('Sundar',)\n",
      "('Devendra',)\n",
      "('Rajesh',)\n",
      "('Roshan',)\n",
      "('Paragash',)\n",
      "('Sundar',)\n",
      "('Devendra',)\n",
      "('Rajesh',)\n",
      "('Roshan',)\n",
      "('Paragash',)\n",
      "('Sundar',)\n",
      "('Devendra',)\n"
     ]
    }
   ],
   "source": [
    "import mysql.connector\n",
    "\n",
    "yr_db = mysql.connector.connect(\n",
    "    host=\"localhost\",\n",
    "    user=\"root\",\n",
    "    password=\"\",\n",
    "    database=\"laptop\"\n",
    ")\n",
    "yr_cur = yr_db.cursor()\n",
    "yr_cur.execute(\"SELECT name FROM desktop\")\n",
    "yr_rt = yr_cur.fetchall()#Which fetches all rows from the last executed statement.\n",
    "\n",
    "for rt in yr_rt:\n",
    "    print(rt)"
   ]
  },
  {
   "cell_type": "code",
   "execution_count": 56,
   "id": "b600c075-3a3c-4741-bcca-c57ebfd04706",
   "metadata": {},
   "outputs": [
    {
     "name": "stdout",
     "output_type": "stream",
     "text": [
      "(None, 'Rajesh', 'Japan')\n",
      "(None, 'Rajesh', 'Japan')\n",
      "(None, 'Rajesh', 'Japan')\n",
      "(123, 'Rajesh', 'Japan')\n",
      "(123, 'Rajesh', 'Japan')\n",
      "(122, 'Roshan', 'Korea')\n",
      "(124, 'Paragash', 'Saudi')\n",
      "(133, 'Sundar', 'Dubai')\n",
      "(223, 'Devendra', 'Nepal')\n",
      "(123, 'Rajesh', 'Japan')\n",
      "(122, 'Roshan', 'Korea')\n",
      "(124, 'Paragash', 'Saudi')\n",
      "(133, 'Sundar', 'Dubai')\n",
      "(223, 'Devendra', 'Nepal')\n",
      "(123, 'Rajesh', 'Japan')\n",
      "(122, 'Roshan', 'Korea')\n",
      "(124, 'Paragash', 'Saudi')\n",
      "(133, 'Sundar', 'Dubai')\n",
      "(223, 'Devendra', 'Nepal')\n"
     ]
    }
   ],
   "source": [
    "import mysql.connector\n",
    "\n",
    "yr_db = mysql.connector.connect(\n",
    "    host=\"localhost\",\n",
    "    user=\"root\",\n",
    "    password=\"\",\n",
    "    database=\"laptop\"\n",
    ")\n",
    "yr_cur = yr_db.cursor()\n",
    "yr_cur.execute(\"SELECT* FROM desktop\")\n",
    "yr_rt = yr_cur.fetchall()\n",
    "for i in yr_rt:\n",
    "    print(i)"
   ]
  },
  {
   "cell_type": "code",
   "execution_count": 64,
   "id": "d0e54008-c8b1-41e0-a1c4-92ec3b039abd",
   "metadata": {},
   "outputs": [
    {
     "name": "stdout",
     "output_type": "stream",
     "text": [
      "(223, 'Devendra', 'Nepal')\n",
      "(223, 'Devendra', 'Nepal')\n",
      "(223, 'Devendra', 'Nepal')\n"
     ]
    }
   ],
   "source": [
    "import mysql.connector\n",
    "\n",
    "yr_db = mysql.connector.connect(\n",
    "    host=\"localhost\",\n",
    "    user=\"root\",\n",
    "    password=\"\",\n",
    "    database=\"laptop\"\n",
    ")\n",
    "yr_cur = yr_db.cursor()\n",
    "sql = \"SELECT* FROM desktop WHERE d_id=223\"\n",
    "\n",
    "yr_cur.execute(sql)\n",
    "yr_rt = yr_cur.fetchall()\n",
    "\n",
    "for row in yr_rt:\n",
    "    print(row)"
   ]
  },
  {
   "cell_type": "code",
   "execution_count": 66,
   "id": "e96c3e23-52f6-4f43-9ea1-71f525feb7ca",
   "metadata": {},
   "outputs": [
    {
     "name": "stdout",
     "output_type": "stream",
     "text": [
      "223\n",
      "Devendra\n",
      "Nepal\n"
     ]
    }
   ],
   "source": [
    "import mysql.connector\n",
    "\n",
    "yr_db = mysql.connector.connect(\n",
    "    host=\"localhost\",\n",
    "    user=\"root\",\n",
    "    password=\"\",\n",
    "    database=\"laptop\"\n",
    ")\n",
    "yr_cur = yr_db.cursor()\n",
    "yr_cur.execute(\"SELECT* FROM desktop where d_id=223\")\n",
    "\n",
    "yr_rt = yr_cur.fetchone()#Only interested in one row, and return the first row of the result default value.\n",
    "\n",
    "for yr in yr_rt:\n",
    "    print(yr)\n"
   ]
  },
  {
   "cell_type": "code",
   "execution_count": 70,
   "id": "a92e527f-a10f-4484-865c-d8530b910071",
   "metadata": {},
   "outputs": [
    {
     "name": "stdout",
     "output_type": "stream",
     "text": [
      "(None, 'Rajesh', 'Japan')\n",
      "(None, 'Rajesh', 'Japan')\n",
      "(None, 'Rajesh', 'Japan')\n",
      "(123, 'Rajesh', 'Japan')\n",
      "(123, 'Rajesh', 'Japan')\n",
      "(223, 'Devendra', 'Nepal')\n",
      "(123, 'Rajesh', 'Japan')\n",
      "(223, 'Devendra', 'Nepal')\n",
      "(123, 'Rajesh', 'Japan')\n",
      "(223, 'Devendra', 'Nepal')\n"
     ]
    }
   ],
   "source": [
    "import mysql.connector\n",
    "\n",
    "yr_db = mysql.connector.connect(\n",
    "    host=\"localhost\",\n",
    "    user=\"root\",\n",
    "    password=\"\",\n",
    "    database=\"laptop\"\n",
    ")\n",
    "yr_cur = yr_db.cursor()\n",
    "\n",
    "yr_cur.execute(\"SELECT* FROM desktop where name LIKE '%e%'\") #%--> Select the records that starts, includes or ends with a given letter or phrase.\n",
    "# Use the % to represetn wildcard characters.\n",
    "\n",
    "yr_rt= yr_cur.fetchall()\n",
    "\n",
    "for i in yr_rt:\n",
    "    print(i)"
   ]
  },
  {
   "cell_type": "code",
   "execution_count": 73,
   "id": "c8a0cfc0-3e3b-4335-82cc-9bab53fc342e",
   "metadata": {},
   "outputs": [
    {
     "name": "stdout",
     "output_type": "stream",
     "text": [
      "(None, 'Rajesh', 'Japan')\n",
      "(None, 'Rajesh', 'Japan')\n",
      "(None, 'Rajesh', 'Japan')\n",
      "(123, 'Rajesh', 'Japan')\n",
      "(123, 'Rajesh', 'Japan')\n",
      "(123, 'Rajesh', 'Japan')\n",
      "(123, 'Rajesh', 'Japan')\n"
     ]
    }
   ],
   "source": [
    "import mysql.connector\n",
    "\n",
    "yr_db = mysql.connector.connect(\n",
    "    host=\"localhost\",\n",
    "    user=\"root\",\n",
    "    password=\"\",\n",
    "    database=\"laptop\"\n",
    ")\n",
    "yr_cur = yr_db.cursor()\n",
    "\n",
    "sql = \"SELECT* FROM desktop WHERE  name = %s\"\n",
    "\n",
    "dd = (\"Rajesh\", )\n",
    "\n",
    "yr_cur.execute(sql, dd)\n",
    "\n",
    "yr_rst = yr_cur.fetchall()\n",
    "\n",
    "for i in yr_rst:\n",
    "    print(i)"
   ]
  },
  {
   "cell_type": "code",
   "execution_count": 82,
   "id": "84d72683-4187-4ae7-9412-4193b6f18ae0",
   "metadata": {},
   "outputs": [
    {
     "name": "stdout",
     "output_type": "stream",
     "text": [
      "(223, 'Devendra', 'Nepal')\n",
      "(223, 'Devendra', 'Nepal')\n",
      "(223, 'Devendra', 'Nepal')\n",
      "(124, 'Paragash', 'Saudi')\n",
      "(124, 'Paragash', 'Saudi')\n",
      "(124, 'Paragash', 'Saudi')\n",
      "(None, 'Rajesh', 'Japan')\n",
      "(None, 'Rajesh', 'Japan')\n",
      "(None, 'Rajesh', 'Japan')\n",
      "(123, 'Rajesh', 'Japan')\n",
      "(123, 'Rajesh', 'Japan')\n",
      "(123, 'Rajesh', 'Japan')\n",
      "(123, 'Rajesh', 'Japan')\n",
      "(122, 'Roshan', 'Korea')\n",
      "(122, 'Roshan', 'Korea')\n",
      "(122, 'Roshan', 'Korea')\n",
      "(133, 'Sundar', 'Dubai')\n",
      "(133, 'Sundar', 'Dubai')\n",
      "(133, 'Sundar', 'Dubai')\n"
     ]
    }
   ],
   "source": [
    "#ORDER BY--> This statement to sort the result in ascending or descending order. The result ascending by default.TO Use DESC Keyword.\n",
    "import mysql.connector\n",
    "\n",
    "yr_db = mysql.connector.connect(\n",
    "    host=\"localhost\",\n",
    "    user=\"root\",\n",
    "    password=\"\",\n",
    "    database=\"laptop\"\n",
    ")\n",
    "\n",
    "yr_cur = yr_db.cursor()\n",
    "\n",
    "yr_cur.execute(\"SELECt* FROM desktop ORDER BY name \")\n",
    "\n",
    "result = yr_cur.fetchall()\n",
    "\n",
    "for i in result:\n",
    "    print(i)\n",
    "\n"
   ]
  },
  {
   "cell_type": "code",
   "execution_count": 83,
   "id": "082ae40f-d75b-4959-baa0-1428035d2ba0",
   "metadata": {},
   "outputs": [
    {
     "name": "stdout",
     "output_type": "stream",
     "text": [
      "(133, 'Sundar', 'Dubai')\n",
      "(133, 'Sundar', 'Dubai')\n",
      "(133, 'Sundar', 'Dubai')\n",
      "(122, 'Roshan', 'Korea')\n",
      "(122, 'Roshan', 'Korea')\n",
      "(122, 'Roshan', 'Korea')\n",
      "(None, 'Rajesh', 'Japan')\n",
      "(None, 'Rajesh', 'Japan')\n",
      "(None, 'Rajesh', 'Japan')\n",
      "(123, 'Rajesh', 'Japan')\n",
      "(123, 'Rajesh', 'Japan')\n",
      "(123, 'Rajesh', 'Japan')\n",
      "(123, 'Rajesh', 'Japan')\n",
      "(124, 'Paragash', 'Saudi')\n",
      "(124, 'Paragash', 'Saudi')\n",
      "(124, 'Paragash', 'Saudi')\n",
      "(223, 'Devendra', 'Nepal')\n",
      "(223, 'Devendra', 'Nepal')\n",
      "(223, 'Devendra', 'Nepal')\n"
     ]
    }
   ],
   "source": [
    "import mysql.connector\n",
    "\n",
    "yr_db = mysql.connector.connect(\n",
    "    host=\"localhost\",\n",
    "    user=\"root\",\n",
    "    password=\"\",\n",
    "    database=\"laptop\"\n",
    ")\n",
    "\n",
    "yr_cur = yr_db.cursor()\n",
    "\n",
    "yr_cur.execute(\"SELECt* FROM desktop ORDER BY name DESC\")\n",
    "\n",
    "result = yr_cur.fetchall()\n",
    "\n",
    "for i in result:\n",
    "    print(i)"
   ]
  },
  {
   "cell_type": "code",
   "execution_count": 89,
   "id": "d452c65d-9279-4617-8a28-2272c0fd3872",
   "metadata": {},
   "outputs": [
    {
     "name": "stdout",
     "output_type": "stream",
     "text": [
      "3 Delete successfull.....\n"
     ]
    }
   ],
   "source": [
    "#Delete \n",
    "import mysql.connector\n",
    "\n",
    "mydb = mysql.connector.connect(\n",
    "    host=\"localhost\",\n",
    "    user=\"root\",\n",
    "    password=\"\",\n",
    "    database=\"laptop\"\n",
    ")\n",
    "yrcur = mydb.cursor()\n",
    "\n",
    "# sql = \"DELETE * FROM desktop WHERE d_id = \"\n",
    "\n",
    "yrcur.execute( \"DELETE FROM desktop WHERE d_id =223\")\n",
    "\n",
    "mydb.commit()\n",
    "\n",
    "print(yrcur.rowcount, \"Delete successfull.....\")"
   ]
  },
  {
   "cell_type": "code",
   "execution_count": 98,
   "id": "6452d4d9-34b7-4a6e-b05f-7515068509e5",
   "metadata": {},
   "outputs": [
    {
     "name": "stdout",
     "output_type": "stream",
     "text": [
      "('desktop',)\n"
     ]
    }
   ],
   "source": [
    "import mysql.connector\n",
    "\n",
    "mydb = mysql.connector.connect(\n",
    "    host=\"localhost\",\n",
    "    user=\"root\",\n",
    "    password=\"\",\n",
    "    database=\"laptop\"\n",
    ")\n",
    "yrcur = mydb.cursor()\n",
    "\n",
    "yrcur.execute(\"SHOW TABLES\")\n",
    "\n",
    "\n",
    "for i in yrcur:\n",
    "    print(i)"
   ]
  },
  {
   "cell_type": "code",
   "execution_count": 110,
   "id": "4f2a0057-c7a7-41bf-9da3-7d762e167e39",
   "metadata": {},
   "outputs": [
    {
     "name": "stdout",
     "output_type": "stream",
     "text": [
      "(None, 'Rajesh', 'Japan')\n",
      "(None, 'Rajesh', 'Japan')\n",
      "(None, 'Rajesh', 'Japan')\n",
      "(123, 'Rajesh', 'Japan')\n",
      "(123, 'Rajesh', 'Japan')\n",
      "(124, 'Paragash', 'Saudi')\n",
      "(133, 'Sundar', 'Dubai')\n",
      "(123, 'Rajesh', 'Japan')\n",
      "(124, 'Paragash', 'Saudi')\n",
      "(133, 'Sundar', 'Dubai')\n",
      "(123, 'Rajesh', 'Japan')\n",
      "(124, 'Paragash', 'Saudi')\n",
      "(133, 'Sundar', 'Dubai')\n"
     ]
    }
   ],
   "source": [
    "import mysql.connector\n",
    "\n",
    "mydb = mysql.connector.connect(\n",
    "    host=\"localhost\",\n",
    "    user=\"root\",\n",
    "    password=\"\",\n",
    "    database=\"laptop\"\n",
    ")\n",
    "yrcur = mydb.cursor()\n",
    "\n",
    "yrcur.execute(\"SELECT* FROM desktop where name LIKE '%a%'\")\n",
    "result = yrcur.fetchall()\n",
    "for i in result:\n",
    "    print(i)"
   ]
  },
  {
   "cell_type": "code",
   "execution_count": 109,
   "id": "75805a3d-1563-4e66-ae13-873e738a0e21",
   "metadata": {},
   "outputs": [
    {
     "name": "stdout",
     "output_type": "stream",
     "text": [
      "Deleted successfully....\n"
     ]
    }
   ],
   "source": [
    "import mysql.connector\n",
    "\n",
    "mydb = mysql.connector.connect(\n",
    "    host=\"localhost\",\n",
    "    user=\"root\",\n",
    "    password=\"\",\n",
    "    database=\"laptop\"\n",
    ")\n",
    "mycursor = mydb.cursor()\n",
    "\n",
    "sql = \"DELETE FROM desktop WHERE name=%s\"\n",
    "var = (\"Roshan\", )\n",
    "mycursor.execute(sql, var)\n",
    "\n",
    "mydb.commit()\n",
    "\n",
    "print( \"Deleted successfully....\")\n"
   ]
  },
  {
   "cell_type": "code",
   "execution_count": null,
   "id": "abc5fe5e-1c3b-45f5-852e-2eaf226b18f3",
   "metadata": {},
   "outputs": [],
   "source": [
    "import mysql.connector\n",
    "\n",
    "mydb = mysql.connector.connect(\n",
    "    host=\"localhost\",\n",
    "    user=\"root\",\n",
    "    password=\"\",\n",
    "    database=\"laptop\"\n",
    ")\n",
    "mycursor = mydb.cursor()\n",
    "\n",
    " \n",
    "mycursor.execute(\"DROP TABLE desktop\")\n",
    "\n",
    "for i in mycursor:\n",
    "    print(i,\"Successfully drop the tables.....\")\n"
   ]
  },
  {
   "cell_type": "code",
   "execution_count": null,
   "id": "deef9e21-56b3-46d6-9fa8-1e69b3c783fe",
   "metadata": {},
   "outputs": [],
   "source": [
    "import mysql.connector\n",
    "\n",
    "mydb = mysql.connector.connect(\n",
    "    host=\"localhost\",\n",
    "    user=\"root\",\n",
    "    password=\"\",\n",
    "    database=\"laptop\"\n",
    ")\n",
    "mycursor = mydb.cursor()\n",
    "\n",
    " \n",
    "mycursor.execute(\"DROP TABLE IF EXISTS desktop\")\n",
    "#IF EXISTS-->If the table you want to delete is already deleted, or for any other reason does not exist, you can use the IF EXISTS keyword to avoid getting an error.'''#\n",
    "\n",
    "for i in mycursor:\n",
    "    print(i,\"Successfully drop the tables.....\")"
   ]
  },
  {
   "cell_type": "code",
   "execution_count": null,
   "id": "14581c90-6aa9-47e3-8f48-49980a516347",
   "metadata": {},
   "outputs": [],
   "source": [
    "import mysql.connector\n",
    "\n",
    "yr_db = mysql.connector.connect(\n",
    "    host=\"localhost\",\n",
    "    user=\"root\",\n",
    "    password=\"\",\n",
    "    database=\"mydatabase\"\n",
    ")\n",
    "yr_cur = yr_db.cursor()\n",
    "\n",
    "sql = \"INSERT INTO students(name, address,d_id) VALUES(%s, %s, %s)\"\n",
    "std1 =[(\"Rajesh\", \"Japan\",123),\n",
    "       (\"Roshan\", \"Korea\",122),\n",
    "       (\"Paragash\", \"Saudi\",124),\n",
    "       (\"Sundar\", \"Dubai\",133),\n",
    "       (\"Devendra\", \"Nepal\",223)]\n",
    "\n",
    "yr_cur.executemany(sql, std1)#executemany()-->To insert multiple rows into a table, use the  executemany() method. \n",
    "#The second parameter of the executemany() mehtod is a list of tuples, conataining the data your want to insert.\n",
    "\n",
    "yr_db.commit()#yr_db.commit()-->It is required to make the changes, otherwise no changes are made to the table.\n",
    "\n",
    "print(mycursor.rowcount, \"Inserted data sucessful.....\")"
   ]
  },
  {
   "cell_type": "code",
   "execution_count": null,
   "id": "7a00c550-e799-41a8-a525-83a2fd754f16",
   "metadata": {},
   "outputs": [],
   "source": []
  }
 ],
 "metadata": {
  "kernelspec": {
   "display_name": "Python 3 (ipykernel)",
   "language": "python",
   "name": "python3"
  },
  "language_info": {
   "codemirror_mode": {
    "name": "ipython",
    "version": 3
   },
   "file_extension": ".py",
   "mimetype": "text/x-python",
   "name": "python",
   "nbconvert_exporter": "python",
   "pygments_lexer": "ipython3",
   "version": "3.11.4"
  }
 },
 "nbformat": 4,
 "nbformat_minor": 5
}
